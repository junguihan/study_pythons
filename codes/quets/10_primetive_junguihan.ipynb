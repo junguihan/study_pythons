{
  "nbformat": 4,
  "nbformat_minor": 0,
  "metadata": {
    "colab": {
      "provenance": [],
      "authorship_tag": "ABX9TyMjO+wqXtOhhtjuRIxCPXTx",
      "include_colab_link": true
    },
    "kernelspec": {
      "name": "python3",
      "display_name": "Python 3"
    },
    "language_info": {
      "name": "python"
    }
  },
  "cells": [
    {
      "cell_type": "markdown",
      "metadata": {
        "id": "view-in-github",
        "colab_type": "text"
      },
      "source": [
        "<a href=\"https://colab.research.google.com/github/junguihan/study_pythons/blob/main/codes/quets/10_primetive_junguihan.ipynb\" target=\"_parent\"><img src=\"https://colab.research.google.com/assets/colab-badge.svg\" alt=\"Open In Colab\"/></a>"
      ]
    },
    {
      "cell_type": "markdown",
      "source": [],
      "metadata": {
        "id": "VMhaVl1FSCUE"
      }
    },
    {
      "cell_type": "markdown",
      "source": [
        "# 묶기"
      ],
      "metadata": {
        "id": "sQg5gGhrSZ7s"
      }
    },
    {
      "cell_type": "markdown",
      "source": [
        "## 약속어"
      ],
      "metadata": {
        "id": "O41OtqCZRilE"
      }
    },
    {
      "cell_type": "code",
      "execution_count": null,
      "metadata": {
        "colab": {
          "base_uri": "https://localhost:8080/"
        },
        "id": "Wc-KiHN1d2ld",
        "outputId": "6707b704-3b70-4832-82eb-9a6f4c06b8d9"
      },
      "outputs": [
        {
          "output_type": "execute_result",
          "data": {
            "text/plain": [
              "6"
            ]
          },
          "metadata": {},
          "execution_count": 48
        }
      ],
      "source": [
        "# 고정 불변 숫자 덧셈\n",
        "5+1"
      ]
    },
    {
      "cell_type": "code",
      "source": [
        "x = 10\n",
        "if x > 2 :\n",
        "  print(\"x is greater than two!\")"
      ],
      "metadata": {
        "colab": {
          "base_uri": "https://localhost:8080/"
        },
        "id": "yp6TENv4kR2I",
        "outputId": "19064858-efbd-456d-bedd-8b4b1dda50cd"
      },
      "execution_count": null,
      "outputs": [
        {
          "output_type": "stream",
          "name": "stdout",
          "text": [
            "x is greater than two!\n"
          ]
        }
      ]
    },
    {
      "cell_type": "code",
      "source": [
        "if 5 < 2 :\n",
        "  print(\"Five is greater than two!\")"
      ],
      "metadata": {
        "id": "uK9wdqnRHdB4"
      },
      "execution_count": null,
      "outputs": []
    },
    {
      "cell_type": "markdown",
      "source": [
        "## 변수"
      ],
      "metadata": {
        "id": "5RIUsJWfSDXE"
      }
    },
    {
      "cell_type": "code",
      "source": [
        "print (\"Hellow\")\n",
        "print (\"Hellow world!\")"
      ],
      "metadata": {
        "colab": {
          "base_uri": "https://localhost:8080/"
        },
        "id": "L3QbPd6bY6Qk",
        "outputId": "fbd58679-42a0-4906-a1d3-dff1fd9790cf"
      },
      "execution_count": null,
      "outputs": [
        {
          "output_type": "stream",
          "name": "stdout",
          "text": [
            "Hellow\n",
            "Hellow world!\n"
          ]
        }
      ]
    },
    {
      "cell_type": "code",
      "source": [
        "first_string = \"Hellow\"\n",
        "print(first_string)\n",
        "second_string = \"Hellow world!\"\n",
        "print(second_string)"
      ],
      "metadata": {
        "colab": {
          "base_uri": "https://localhost:8080/"
        },
        "id": "OxJgd6p-SHP_",
        "outputId": "2e3d87a9-b418-4c7c-8174-dfa39e685741"
      },
      "execution_count": null,
      "outputs": [
        {
          "output_type": "stream",
          "name": "stdout",
          "text": [
            "Hellow\n",
            "Hellow world!\n"
          ]
        }
      ]
    },
    {
      "cell_type": "markdown",
      "source": [
        "###strings"
      ],
      "metadata": {
        "id": "lNQi5rD1l_SN"
      }
    },
    {
      "cell_type": "markdown",
      "source": [
        "## 용도 같은 경우 재사용"
      ],
      "metadata": {
        "id": "RxlpmewFiqDF"
      }
    },
    {
      "cell_type": "code",
      "source": [
        "first_string = \"Hellow\"\n",
        "print(first_string)\n",
        "first_string = \"Hellow world!\"\n",
        "print(first_string)"
      ],
      "metadata": {
        "colab": {
          "base_uri": "https://localhost:8080/"
        },
        "id": "kbx7LvYKh4as",
        "outputId": "95ab44a8-e92f-4683-de43-74a98ba0d30b"
      },
      "execution_count": null,
      "outputs": [
        {
          "output_type": "stream",
          "name": "stdout",
          "text": [
            "Hellow\n",
            "Hellow world!\n"
          ]
        }
      ]
    },
    {
      "cell_type": "markdown",
      "source": [
        "###integers"
      ],
      "metadata": {
        "id": "ZBzYk_eVl8fc"
      }
    },
    {
      "cell_type": "code",
      "source": [
        "first_integer = 1\n",
        "print(first_integer)\n",
        "second_integer = 2\n",
        "print(second_integer)"
      ],
      "metadata": {
        "colab": {
          "base_uri": "https://localhost:8080/"
        },
        "id": "ItawxvT0lzfC",
        "outputId": "b19119dc-26be-46f2-fa54-9b6c186ad3a5"
      },
      "execution_count": null,
      "outputs": [
        {
          "output_type": "stream",
          "name": "stdout",
          "text": [
            "1\n",
            "2\n"
          ]
        }
      ]
    },
    {
      "cell_type": "code",
      "source": [
        "type(first_string), type(first_integer)"
      ],
      "metadata": {
        "colab": {
          "base_uri": "https://localhost:8080/"
        },
        "id": "AIEOlBvgmkPr",
        "outputId": "b41d7e07-5e49-48d9-e2c3-f6a7f7f234b0"
      },
      "execution_count": null,
      "outputs": [
        {
          "output_type": "execute_result",
          "data": {
            "text/plain": [
              "(str, int)"
            ]
          },
          "metadata": {},
          "execution_count": 67
        }
      ]
    },
    {
      "cell_type": "markdown",
      "source": [
        "###fomat"
      ],
      "metadata": {
        "id": "dtPrDAZ6oFYj"
      }
    },
    {
      "cell_type": "code",
      "source": [
        "# third_concats = \"first_string first_integer\"\n",
        "third_concats = f\"string : {first_string}, integer : {first_integer}\"\n",
        "print(third_concats)"
      ],
      "metadata": {
        "colab": {
          "base_uri": "https://localhost:8080/"
        },
        "id": "bLAXkvvGnzHD",
        "outputId": "b2cc3d8e-1b16-40fe-cc18-4a6a4e7ae42d"
      },
      "execution_count": null,
      "outputs": [
        {
          "output_type": "stream",
          "name": "stdout",
          "text": [
            "string : Hellow world!, integer : 1\n"
          ]
        }
      ]
    },
    {
      "cell_type": "code",
      "source": [],
      "metadata": {
        "id": "EwJQW-BlpCHL"
      },
      "execution_count": null,
      "outputs": []
    }
  ]
}